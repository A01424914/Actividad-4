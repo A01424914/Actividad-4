{
  "nbformat": 4,
  "nbformat_minor": 0,
  "metadata": {
    "colab": {
      "provenance": []
    },
    "kernelspec": {
      "name": "python3",
      "display_name": "Python 3"
    },
    "language_info": {
      "name": "python"
    }
  },
  "cells": [
    {
      "cell_type": "code",
      "execution_count": 1,
      "metadata": {
        "id": "pmzfzDbzhrn-"
      },
      "outputs": [],
      "source": [
        "import pandas as pd\n",
        "import numpy as np\n",
        "import matplotlib.pyplot as plt\n",
        "import seaborn as sns"
      ]
    },
    {
      "cell_type": "code",
      "source": [
        "from google.colab import files\n",
        "files.upload()\n",
        "#Cargar desde un archivo .csv sin indice\n",
        "df=pd.read_csv('microretailer_mit_lift_lab_limpio(2).csv')\n"
      ],
      "metadata": {
        "colab": {
          "base_uri": "https://localhost:8080/",
          "height": 74
        },
        "id": "FwAGOKVohuCL",
        "outputId": "88aa90ad-e3a1-4c0d-966f-f3b0ea2380bf"
      },
      "execution_count": 156,
      "outputs": [
        {
          "output_type": "display_data",
          "data": {
            "text/plain": [
              "<IPython.core.display.HTML object>"
            ],
            "text/html": [
              "\n",
              "     <input type=\"file\" id=\"files-4f1bc574-954b-45b9-9ce0-b49806b948d5\" name=\"files[]\" multiple disabled\n",
              "        style=\"border:none\" />\n",
              "     <output id=\"result-4f1bc574-954b-45b9-9ce0-b49806b948d5\">\n",
              "      Upload widget is only available when the cell has been executed in the\n",
              "      current browser session. Please rerun this cell to enable.\n",
              "      </output>\n",
              "      <script>// Copyright 2017 Google LLC\n",
              "//\n",
              "// Licensed under the Apache License, Version 2.0 (the \"License\");\n",
              "// you may not use this file except in compliance with the License.\n",
              "// You may obtain a copy of the License at\n",
              "//\n",
              "//      http://www.apache.org/licenses/LICENSE-2.0\n",
              "//\n",
              "// Unless required by applicable law or agreed to in writing, software\n",
              "// distributed under the License is distributed on an \"AS IS\" BASIS,\n",
              "// WITHOUT WARRANTIES OR CONDITIONS OF ANY KIND, either express or implied.\n",
              "// See the License for the specific language governing permissions and\n",
              "// limitations under the License.\n",
              "\n",
              "/**\n",
              " * @fileoverview Helpers for google.colab Python module.\n",
              " */\n",
              "(function(scope) {\n",
              "function span(text, styleAttributes = {}) {\n",
              "  const element = document.createElement('span');\n",
              "  element.textContent = text;\n",
              "  for (const key of Object.keys(styleAttributes)) {\n",
              "    element.style[key] = styleAttributes[key];\n",
              "  }\n",
              "  return element;\n",
              "}\n",
              "\n",
              "// Max number of bytes which will be uploaded at a time.\n",
              "const MAX_PAYLOAD_SIZE = 100 * 1024;\n",
              "\n",
              "function _uploadFiles(inputId, outputId) {\n",
              "  const steps = uploadFilesStep(inputId, outputId);\n",
              "  const outputElement = document.getElementById(outputId);\n",
              "  // Cache steps on the outputElement to make it available for the next call\n",
              "  // to uploadFilesContinue from Python.\n",
              "  outputElement.steps = steps;\n",
              "\n",
              "  return _uploadFilesContinue(outputId);\n",
              "}\n",
              "\n",
              "// This is roughly an async generator (not supported in the browser yet),\n",
              "// where there are multiple asynchronous steps and the Python side is going\n",
              "// to poll for completion of each step.\n",
              "// This uses a Promise to block the python side on completion of each step,\n",
              "// then passes the result of the previous step as the input to the next step.\n",
              "function _uploadFilesContinue(outputId) {\n",
              "  const outputElement = document.getElementById(outputId);\n",
              "  const steps = outputElement.steps;\n",
              "\n",
              "  const next = steps.next(outputElement.lastPromiseValue);\n",
              "  return Promise.resolve(next.value.promise).then((value) => {\n",
              "    // Cache the last promise value to make it available to the next\n",
              "    // step of the generator.\n",
              "    outputElement.lastPromiseValue = value;\n",
              "    return next.value.response;\n",
              "  });\n",
              "}\n",
              "\n",
              "/**\n",
              " * Generator function which is called between each async step of the upload\n",
              " * process.\n",
              " * @param {string} inputId Element ID of the input file picker element.\n",
              " * @param {string} outputId Element ID of the output display.\n",
              " * @return {!Iterable<!Object>} Iterable of next steps.\n",
              " */\n",
              "function* uploadFilesStep(inputId, outputId) {\n",
              "  const inputElement = document.getElementById(inputId);\n",
              "  inputElement.disabled = false;\n",
              "\n",
              "  const outputElement = document.getElementById(outputId);\n",
              "  outputElement.innerHTML = '';\n",
              "\n",
              "  const pickedPromise = new Promise((resolve) => {\n",
              "    inputElement.addEventListener('change', (e) => {\n",
              "      resolve(e.target.files);\n",
              "    });\n",
              "  });\n",
              "\n",
              "  const cancel = document.createElement('button');\n",
              "  inputElement.parentElement.appendChild(cancel);\n",
              "  cancel.textContent = 'Cancel upload';\n",
              "  const cancelPromise = new Promise((resolve) => {\n",
              "    cancel.onclick = () => {\n",
              "      resolve(null);\n",
              "    };\n",
              "  });\n",
              "\n",
              "  // Wait for the user to pick the files.\n",
              "  const files = yield {\n",
              "    promise: Promise.race([pickedPromise, cancelPromise]),\n",
              "    response: {\n",
              "      action: 'starting',\n",
              "    }\n",
              "  };\n",
              "\n",
              "  cancel.remove();\n",
              "\n",
              "  // Disable the input element since further picks are not allowed.\n",
              "  inputElement.disabled = true;\n",
              "\n",
              "  if (!files) {\n",
              "    return {\n",
              "      response: {\n",
              "        action: 'complete',\n",
              "      }\n",
              "    };\n",
              "  }\n",
              "\n",
              "  for (const file of files) {\n",
              "    const li = document.createElement('li');\n",
              "    li.append(span(file.name, {fontWeight: 'bold'}));\n",
              "    li.append(span(\n",
              "        `(${file.type || 'n/a'}) - ${file.size} bytes, ` +\n",
              "        `last modified: ${\n",
              "            file.lastModifiedDate ? file.lastModifiedDate.toLocaleDateString() :\n",
              "                                    'n/a'} - `));\n",
              "    const percent = span('0% done');\n",
              "    li.appendChild(percent);\n",
              "\n",
              "    outputElement.appendChild(li);\n",
              "\n",
              "    const fileDataPromise = new Promise((resolve) => {\n",
              "      const reader = new FileReader();\n",
              "      reader.onload = (e) => {\n",
              "        resolve(e.target.result);\n",
              "      };\n",
              "      reader.readAsArrayBuffer(file);\n",
              "    });\n",
              "    // Wait for the data to be ready.\n",
              "    let fileData = yield {\n",
              "      promise: fileDataPromise,\n",
              "      response: {\n",
              "        action: 'continue',\n",
              "      }\n",
              "    };\n",
              "\n",
              "    // Use a chunked sending to avoid message size limits. See b/62115660.\n",
              "    let position = 0;\n",
              "    do {\n",
              "      const length = Math.min(fileData.byteLength - position, MAX_PAYLOAD_SIZE);\n",
              "      const chunk = new Uint8Array(fileData, position, length);\n",
              "      position += length;\n",
              "\n",
              "      const base64 = btoa(String.fromCharCode.apply(null, chunk));\n",
              "      yield {\n",
              "        response: {\n",
              "          action: 'append',\n",
              "          file: file.name,\n",
              "          data: base64,\n",
              "        },\n",
              "      };\n",
              "\n",
              "      let percentDone = fileData.byteLength === 0 ?\n",
              "          100 :\n",
              "          Math.round((position / fileData.byteLength) * 100);\n",
              "      percent.textContent = `${percentDone}% done`;\n",
              "\n",
              "    } while (position < fileData.byteLength);\n",
              "  }\n",
              "\n",
              "  // All done.\n",
              "  yield {\n",
              "    response: {\n",
              "      action: 'complete',\n",
              "    }\n",
              "  };\n",
              "}\n",
              "\n",
              "scope.google = scope.google || {};\n",
              "scope.google.colab = scope.google.colab || {};\n",
              "scope.google.colab._files = {\n",
              "  _uploadFiles,\n",
              "  _uploadFilesContinue,\n",
              "};\n",
              "})(self);\n",
              "</script> "
            ]
          },
          "metadata": {}
        },
        {
          "output_type": "stream",
          "name": "stdout",
          "text": [
            "Saving microretailer_mit_lift_lab_limpio(2).csv to microretailer_mit_lift_lab_limpio(2) (1).csv\n"
          ]
        }
      ]
    },
    {
      "cell_type": "code",
      "source": [
        "#Sustituir valores nulos por valores no nulo hacia atras \"backward fill\"(\"bfill\")\n",
        "df[\"97_number_of_customers_in_store\"]=df[\"97_number_of_customers_in_store\"].fillna(method=\"bfill\")"
      ],
      "metadata": {
        "id": "QRIoLbSAKM0P"
      },
      "execution_count": 159,
      "outputs": []
    },
    {
      "cell_type": "code",
      "source": [
        "#Sustituir valores nulos por valores no nulo hacia atras \"backward fill\"(\"bfill\")\n",
        "df[\"268_number_fridges\"]=df[\"268_number_fridges\"].fillna(method=\"bfill\")"
      ],
      "metadata": {
        "id": "inQ3eoMgKWvf"
      },
      "execution_count": 160,
      "outputs": []
    },
    {
      "cell_type": "code",
      "source": [
        "#Sustituir valores nulos por valores no nulo hacia atras \"backward fill\"(\"bfill\")\n",
        "df[\"104_how_many_shelves_does_the_micro_retailer_have\"]=df[\"104_how_many_shelves_does_the_micro_retailer_have\"].fillna(method=\"bfill\")"
      ],
      "metadata": {
        "id": "n-BJ0amqKe0e"
      },
      "execution_count": 161,
      "outputs": []
    },
    {
      "cell_type": "code",
      "source": [
        "#Sustituir valores nulos por valores no nulo hacia atras \"backward fill\"(\"bfill\")\n",
        "df[\"2_current_permanent_employees\"]=df[\"2_current_permanent_employees\"].fillna(method=\"bfill\")"
      ],
      "metadata": {
        "id": "7pEXmqa1KjAN"
      },
      "execution_count": 162,
      "outputs": []
    },
    {
      "cell_type": "code",
      "source": [
        "#Sustituir valores nulos por valores no nulo hacia atras \"backward fill\"(\"bfill\")\n",
        "df[\"234_willingness_participate_workshop\"]=df[\"234_willingness_participate_workshop\"].fillna(method=\"bfill\")"
      ],
      "metadata": {
        "id": "7J_TZTvqKjgx"
      },
      "execution_count": 163,
      "outputs": []
    },
    {
      "cell_type": "code",
      "source": [
        "#Sustituir valores nulos por valores no nulo hacia atras \"forward fill\"(\"ffill\")\n",
        "df[\"234_willingness_participate_workshop\"]=df[\"234_willingness_participate_workshop\"].fillna(method=\"ffill\")"
      ],
      "metadata": {
        "id": "5Z9uO57zK7GU"
      },
      "execution_count": 164,
      "outputs": []
    },
    {
      "cell_type": "code",
      "source": [
        "#Sustituir valores nulos por valores no nulo hacia atras \"backward fill\"(\"bfill\")\n",
        "df[\"318_shopkeeper_name\"]=df[\"318_shopkeeper_name\"].fillna(method=\"bfill\")"
      ],
      "metadata": {
        "id": "cOxGun_rKwcT"
      },
      "execution_count": 165,
      "outputs": []
    },
    {
      "cell_type": "code",
      "source": [
        "#Sustituir valores nulos por valores no nulo hacia atras \"forward fill\"(\"ffill\")\n",
        "df[\"318_shopkeeper_name\"]=df[\"318_shopkeeper_name\"].fillna(method=\"ffill\")"
      ],
      "metadata": {
        "id": "6g3iXYepLC69"
      },
      "execution_count": 166,
      "outputs": []
    },
    {
      "cell_type": "code",
      "source": [
        "#Sustituir valores nulos por valores no nulo hacia atras \"backward fill\"(\"bfill\")\n",
        "df[\"319_shopkeepers_last_name\"]=df[\"319_shopkeepers_last_name\"].fillna(method=\"bfill\")"
      ],
      "metadata": {
        "id": "Mf701Hy5Kx1W"
      },
      "execution_count": 167,
      "outputs": []
    },
    {
      "cell_type": "code",
      "source": [
        "#Sustituir valores nulos por valores no nulo hacia atras \"forward fill\"(\"ffill\")\n",
        "df[\"319_shopkeepers_last_name\"]=df[\"319_shopkeepers_last_name\"].fillna(method=\"ffill\")"
      ],
      "metadata": {
        "id": "L1YUMxT3LJq6"
      },
      "execution_count": 168,
      "outputs": []
    },
    {
      "cell_type": "code",
      "source": [
        "#Sustituir valores nulos por valores no nulo hacia atras \"backward fill\"(\"bfill\")\n",
        "df[\"236_whatsapp\"]=df[\"236_whatsapp\"].fillna(method=\"bfill\")"
      ],
      "metadata": {
        "id": "UUMLmZhcLWRP"
      },
      "execution_count": 169,
      "outputs": []
    },
    {
      "cell_type": "code",
      "source": [
        "#Sustituir valores nulos por valores no nulo hacia atras \"forward fill\"(\"ffill\")\n",
        "df[\"236_whatsapp\"]=df[\"236_whatsapp\"].fillna(method=\"ffill\")"
      ],
      "metadata": {
        "id": "GZPrtVY9LWtd"
      },
      "execution_count": 170,
      "outputs": []
    },
    {
      "cell_type": "code",
      "source": [
        "#Sustituir valores nulos por valores no nulo hacia atras \"backward fill\"(\"bfill\")\n",
        "df[\"235_email\"]=df[\"235_email\"].fillna(method=\"bfill\")"
      ],
      "metadata": {
        "id": "Arh2TUZmLcM1"
      },
      "execution_count": 171,
      "outputs": []
    },
    {
      "cell_type": "code",
      "source": [
        "#Sustituir valores nulos por valores no nulo hacia atras \"forward fill\"(\"ffill\")\n",
        "df[\"235_email\"]=df[\"235_email\"].fillna(method=\"ffill\")"
      ],
      "metadata": {
        "id": "5pjc3zt-LcfF"
      },
      "execution_count": 172,
      "outputs": []
    },
    {
      "cell_type": "code",
      "source": [
        "#corroboramos valores nulos \n",
        "valores_nulos=df.isnull().sum()\n",
        "valores_nulos"
      ],
      "metadata": {
        "colab": {
          "base_uri": "https://localhost:8080/"
        },
        "id": "1CRsLRr2JxqY",
        "outputId": "738b180d-77c6-43ec-f828-226e3a586d49"
      },
      "execution_count": 173,
      "outputs": [
        {
          "output_type": "execute_result",
          "data": {
            "text/plain": [
              "Unnamed: 0                              0\n",
              "_record_id                              0\n",
              "_title                                  0\n",
              "_server_updated_at                      0\n",
              "_updated_by                             0\n",
              "                                       ..\n",
              "234_willingness_participate_workshop    0\n",
              "318_shopkeeper_name                     0\n",
              "319_shopkeepers_last_name               0\n",
              "236_whatsapp                            0\n",
              "235_email                               0\n",
              "Length: 107, dtype: int64"
            ]
          },
          "metadata": {},
          "execution_count": 173
        }
      ]
    },
    {
      "cell_type": "code",
      "source": [
        "#se grafican mapas de dispersion de las variables 3 variables (97_number_of_customers_in_store', '_latitude', '104_how_many_shelves_does_the_micro_retailer_have)\n",
        "from turtle import color\n",
        "sns.scatterplot(x='97_number_of_customers_in_store', y='_longitude', color=\"blue\" , data=df)\n",
        "sns.scatterplot(x='_latitude', y='_longitude', color=\"red\" , data=df)\n",
        "sns.scatterplot(x='104_how_many_shelves_does_the_micro_retailer_have', y='_longitude', color=\"yellow\" , data=df)"
      ],
      "metadata": {
        "colab": {
          "base_uri": "https://localhost:8080/",
          "height": 298
        },
        "id": "ZmVohjgWh3PI",
        "outputId": "aea25a14-48ee-443e-a77f-6caaa7b40dc5"
      },
      "execution_count": 174,
      "outputs": [
        {
          "output_type": "execute_result",
          "data": {
            "text/plain": [
              "<matplotlib.axes._subplots.AxesSubplot at 0x7f19e9b64750>"
            ]
          },
          "metadata": {},
          "execution_count": 174
        },
        {
          "output_type": "display_data",
          "data": {
            "text/plain": [
              "<Figure size 432x288 with 1 Axes>"
            ],
            "image/png": "[encoded data removed]"
          },
          "metadata": {
            "needs_background": "light"
          }
        }
      ]
    },
    {
      "cell_type": "code",
      "source": [
        "#Decimos cuales van a hacer las varibles, dependientes e independientes para la regresión lineal\n",
        "Vars_Indep=df[['97_number_of_customers_in_store', '_latitude', '104_how_many_shelves_does_the_micro_retailer_have']]\n",
        "Var_Dep=df['_longitude']"
      ],
      "metadata": {
        "id": "-Obr5eKJimQT"
      },
      "execution_count": 175,
      "outputs": []
    },
    {
      "cell_type": "code",
      "source": [
        "#Se define como model como la funcion de regresion lineal \n",
        "from sklearn.linear_model import LinearRegression\n",
        "model=LinearRegression()"
      ],
      "metadata": {
        "id": "ECEjGvtJjj4W"
      },
      "execution_count": 176,
      "outputs": []
    },
    {
      "cell_type": "code",
      "source": [
        "#verificamos la funcion relacionada al modelo \n",
        "type(model)"
      ],
      "metadata": {
        "colab": {
          "base_uri": "https://localhost:8080/"
        },
        "id": "9Edfs4umj4NV",
        "outputId": "c46398e2-a8c7-4354-956a-939042b1f6ab"
      },
      "execution_count": 177,
      "outputs": [
        {
          "output_type": "execute_result",
          "data": {
            "text/plain": [
              "sklearn.linear_model._base.LinearRegression"
            ]
          },
          "metadata": {},
          "execution_count": 177
        }
      ]
    },
    {
      "cell_type": "code",
      "source": [
        "#Ajustamos el modelo con las variables antes declaradas\n",
        "model.fit(X=Vars_Indep, y=Var_Dep)"
      ],
      "metadata": {
        "colab": {
          "base_uri": "https://localhost:8080/"
        },
        "id": "2RiydRDgkCTt",
        "outputId": "adeadf63-344d-4e56-ff49-4dc75d3ccc2d"
      },
      "execution_count": 178,
      "outputs": [
        {
          "output_type": "execute_result",
          "data": {
            "text/plain": [
              "LinearRegression()"
            ]
          },
          "metadata": {},
          "execution_count": 178
        }
      ]
    },
    {
      "cell_type": "code",
      "source": [
        "#Verificamos los coeficientes obtenidos para el model ajustado \n",
        "model.__dict__"
      ],
      "metadata": {
        "id": "FLK02GpWktuE",
        "colab": {
          "base_uri": "https://localhost:8080/"
        },
        "outputId": "0593e7fb-6226-47a9-8c59-7ca2f5c1b3ac"
      },
      "execution_count": 179,
      "outputs": [
        {
          "output_type": "execute_result",
          "data": {
            "text/plain": [
              "{'fit_intercept': True,\n",
              " 'normalize': 'deprecated',\n",
              " 'copy_X': True,\n",
              " 'n_jobs': None,\n",
              " 'positive': False,\n",
              " 'feature_names_in_': array(['97_number_of_customers_in_store', '_latitude',\n",
              "        '104_how_many_shelves_does_the_micro_retailer_have'], dtype=object),\n",
              " 'n_features_in_': 3,\n",
              " 'coef_': array([-7.32230916e-04,  9.18199341e-01,  1.07603272e-04]),\n",
              " '_residues': 0.24029355069611913,\n",
              " 'rank_': 3,\n",
              " 'singular_': array([212.74593126,  16.37848523,   0.27969589]),\n",
              " 'intercept_': -115.70632716889531}"
            ]
          },
          "metadata": {},
          "execution_count": 179
        }
      ]
    },
    {
      "cell_type": "code",
      "source": [
        "#Evaluamos el coeficiente del modelo obtenido por medio del coeficiente R2 determinación \n",
        "model.score(Vars_Indep,Var_Dep)"
      ],
      "metadata": {
        "colab": {
          "base_uri": "https://localhost:8080/"
        },
        "id": "evVj66A6mHAg",
        "outputId": "730b8727-8f10-4d1d-ce3d-bd08d91d7442"
      },
      "execution_count": 180,
      "outputs": [
        {
          "output_type": "execute_result",
          "data": {
            "text/plain": [
              "0.22387977967445682"
            ]
          },
          "metadata": {},
          "execution_count": 180
        }
      ]
    },
    {
      "cell_type": "markdown",
      "source": [
        "**Modelo predictivo**"
      ],
      "metadata": {
        "id": "MhPhjRCnvJ_y"
      }
    },
    {
      "cell_type": "code",
      "source": [
        "#Predecimos los valores de total de accidentes a partir de las variables\n",
        "y_prend=model.predict(X=df[['97_number_of_customers_in_store', '_latitude', '104_how_many_shelves_does_the_micro_retailer_have']])\n",
        "y_prend"
      ],
      "metadata": {
        "colab": {
          "base_uri": "https://localhost:8080/"
        },
        "id": "JN-7GVJInCaZ",
        "outputId": "904cab20-db37-4b65-a72d-ce0af2a2342d"
      },
      "execution_count": 181,
      "outputs": [
        {
          "output_type": "execute_result",
          "data": {
            "text/plain": [
              "array([-98.21241677, -98.21049915, -98.20410054, -98.20588178,\n",
              "       -98.20410749, -98.20563663, -98.20684861, -98.20350733,\n",
              "       -98.20507014, -98.20593515, -98.24341798, -98.24228349,\n",
              "       -98.24293033, -98.2439021 , -98.24143978, -98.24188527,\n",
              "       -98.24093966, -98.24231826, -98.24151981, -98.24018859,\n",
              "       -98.21266913, -98.19984703, -98.19959527, -98.20349816,\n",
              "       -98.20378976, -98.20524864, -98.20422169, -98.2045811 ,\n",
              "       -98.20476089, -98.20525464, -98.203637  , -98.20219277,\n",
              "       -98.20198844, -98.20015375, -98.23830018, -98.24629217,\n",
              "       -98.24536175, -98.24591519, -98.24645768, -98.24615173,\n",
              "       -98.24457764, -98.24429161, -98.2442952 , -98.24310259,\n",
              "       -98.2040055 , -98.20649142, -98.23830154, -98.24897125,\n",
              "       -98.25062944, -98.24985902, -98.24978116, -98.23081801,\n",
              "       -98.22422219, -98.22274038, -98.22312618, -98.22228086,\n",
              "       -98.22227115, -98.22153251, -98.22259729, -98.2219397 ,\n",
              "       -98.22193946, -98.22149884, -98.22248747, -98.22203158,\n",
              "       -98.22101363, -98.22053323, -98.22296506, -98.2212659 ,\n",
              "       -98.22145304, -98.23185709, -98.23850277, -98.24006345,\n",
              "       -98.24472163, -98.245663  , -98.24099673, -98.24275364,\n",
              "       -98.24442172, -98.2417406 , -98.24384474, -98.2446588 ,\n",
              "       -98.24338072, -98.19595882, -98.19600538, -98.19480826,\n",
              "       -98.19465444, -98.19550971, -98.19545984, -98.19537692,\n",
              "       -98.23580648, -98.19278842, -98.23584082, -98.19456254,\n",
              "       -98.23475587, -98.19357259, -98.19289821, -98.19272509,\n",
              "       -98.19236504, -98.19372717, -98.22873443, -98.22996488,\n",
              "       -98.19397055, -98.19483334, -98.19403595, -98.19440369,\n",
              "       -98.23004368, -98.24724227, -98.19165174, -98.24117833,\n",
              "       -98.24113245, -98.19473269, -98.19436465, -98.19543199,\n",
              "       -98.19622934, -98.19599362, -98.19233926, -98.19193905,\n",
              "       -98.19124106, -98.19425382, -98.19496362, -98.19420802,\n",
              "       -98.24293948, -98.19451756, -98.19395582, -98.19131619,\n",
              "       -98.19854618, -98.19550078, -98.19490601, -98.1930137 ,\n",
              "       -98.19252952, -98.22146469, -98.22245114, -98.1921677 ,\n",
              "       -98.19556087, -98.19585885, -98.19514336, -98.1957252 ,\n",
              "       -98.23869823, -98.23680012, -98.2424043 , -98.20713193,\n",
              "       -98.20943925, -98.20687402, -98.20271383, -98.2057523 ,\n",
              "       -98.20416836, -98.20973884, -98.20812793, -98.26377982,\n",
              "       -98.2636275 , -98.24659603, -98.24603191, -98.24365197,\n",
              "       -98.24387865, -98.2431512 , -98.2427865 , -98.20891583,\n",
              "       -98.21990826, -98.24191339, -98.22860683, -98.22014943,\n",
              "       -98.22013164, -98.22114614, -98.22144064, -98.2233212 ,\n",
              "       -98.22135536, -98.22184427])"
            ]
          },
          "metadata": {},
          "execution_count": 181
        }
      ]
    },
    {
      "cell_type": "code",
      "source": [
        "#insertamos la columna de predicciones del df\n",
        "df.insert(0,'Predicciones',y_prend)\n",
        "df"
      ],
      "metadata": {
        "id": "u4vs5-Tgnd8p"
      },
      "execution_count": null,
      "outputs": []
    },
    {
      "cell_type": "code",
      "source": [
        "#Comparamos entre total real y total predictivo\n",
        "sns.scatterplot(x='97_number_of_customers_in_store', y='_longitude', color=\"blue\" , data=df)\n",
        "sns.scatterplot(x='97_number_of_customers_in_store', y='Predicciones', color=\"red\" , data=df)"
      ],
      "metadata": {
        "colab": {
          "base_uri": "https://localhost:8080/",
          "height": 298
        },
        "id": "F302uvs3oMCX",
        "outputId": "3085105c-08b8-46d1-c990-5eb5d604d465"
      },
      "execution_count": 183,
      "outputs": [
        {
          "output_type": "execute_result",
          "data": {
            "text/plain": [
              "<matplotlib.axes._subplots.AxesSubplot at 0x7f19e9a98490>"
            ]
          },
          "metadata": {},
          "execution_count": 183
        },
        {
          "output_type": "display_data",
          "data": {
            "text/plain": [
              "<Figure size 432x288 with 1 Axes>"
            ],
            "image/png": "[encoded data removed]"
          },
          "metadata": {
            "needs_background": "light"
          }
        }
      ]
    },
    {
      "cell_type": "code",
      "source": [
        "#Corroboramos el coeficiente de determinacion de nuestro modelo \n",
        "coef_Deter=model.score(X=Vars_Indep, y=Var_Dep)\n",
        "coef_Deter"
      ],
      "metadata": {
        "colab": {
          "base_uri": "https://localhost:8080/"
        },
        "id": "rvqK2Pc1o54M",
        "outputId": "248cf481-6a4d-441c-9c91-f63183b171ff"
      },
      "execution_count": 184,
      "outputs": [
        {
          "output_type": "execute_result",
          "data": {
            "text/plain": [
              "0.22387977967445682"
            ]
          },
          "metadata": {},
          "execution_count": 184
        }
      ]
    },
    {
      "cell_type": "code",
      "source": [
        "#Corroboramos el coeficiente de corelacion de nuestro modelo \n",
        "coef_Correl=np.sqrt(coef_Deter)\n",
        "coef_Correl"
      ],
      "metadata": {
        "colab": {
          "base_uri": "https://localhost:8080/"
        },
        "id": "wNzzifHypQf4",
        "outputId": "49324c31-6a45-4dcf-e23a-2bbc097b3103"
      },
      "execution_count": 185,
      "outputs": [
        {
          "output_type": "execute_result",
          "data": {
            "text/plain": [
              "0.4731593597028984"
            ]
          },
          "metadata": {},
          "execution_count": 185
        }
      ]
    },
    {
      "cell_type": "markdown",
      "source": [
        "**Caso 2**\n"
      ],
      "metadata": {
        "id": "eqFJJ98EdmZZ"
      }
    },
    {
      "cell_type": "code",
      "source": [
        "#se grafican mapas de dispersion de las variables 3 variables (104_how_many_shelves_does_the_micro_retailer_have','2_current_permanent_employees', '97_number_of_customers_in_store)\n",
        "from turtle import color\n",
        "sns.scatterplot(x='104_how_many_shelves_does_the_micro_retailer_have', y='268_number_fridges', color=\"blue\" , data=df)\n",
        "sns.scatterplot(x='2_current_permanent_employees', y='268_number_fridges', color=\"red\" , data=df)\n",
        "sns.scatterplot(x='97_number_of_customers_in_store', y='268_number_fridges', color=\"yellow\" , data=df)"
      ],
      "metadata": {
        "colab": {
          "base_uri": "https://localhost:8080/",
          "height": 298
        },
        "id": "0TLOeDhtdp7X",
        "outputId": "c43e7930-f372-471f-e6a8-4904e1f8d4bc"
      },
      "execution_count": 186,
      "outputs": [
        {
          "output_type": "execute_result",
          "data": {
            "text/plain": [
              "<matplotlib.axes._subplots.AxesSubplot at 0x7f19e9a57310>"
            ]
          },
          "metadata": {},
          "execution_count": 186
        },
        {
          "output_type": "display_data",
          "data": {
            "text/plain": [
              "<Figure size 432x288 with 1 Axes>"
            ],
            "image/png": "[encoded data removed]"
          },
          "metadata": {
            "needs_background": "light"
          }
        }
      ]
    },
    {
      "cell_type": "code",
      "source": [
        "#Decimos cuales van a hacer las varibles, dependientes e independientes para la regresión lineal\n",
        "Vars_Indep=df[['104_how_many_shelves_does_the_micro_retailer_have','2_current_permanent_employees', '97_number_of_customers_in_store']]\n",
        "Var_Dep=df['268_number_fridges']"
      ],
      "metadata": {
        "id": "XMi5G7EdesKJ"
      },
      "execution_count": 187,
      "outputs": []
    },
    {
      "cell_type": "code",
      "source": [
        "#Se define como model como la funcion de regresion lineal \n",
        "from sklearn.linear_model import LinearRegression\n",
        "model1=LinearRegression()"
      ],
      "metadata": {
        "id": "Wg-zk_D7fGqr"
      },
      "execution_count": 188,
      "outputs": []
    },
    {
      "cell_type": "code",
      "source": [
        "#verificamos la funcion relacionada al modelo \n",
        "type(model1)"
      ],
      "metadata": {
        "colab": {
          "base_uri": "https://localhost:8080/"
        },
        "id": "z72-wUMxfjtt",
        "outputId": "03d7798e-97dd-4133-d1e8-9494238b0beb"
      },
      "execution_count": 189,
      "outputs": [
        {
          "output_type": "execute_result",
          "data": {
            "text/plain": [
              "sklearn.linear_model._base.LinearRegression"
            ]
          },
          "metadata": {},
          "execution_count": 189
        }
      ]
    },
    {
      "cell_type": "code",
      "source": [
        "#Ajustamos el modelo con las variables antes declaradas\n",
        "model1.fit(X=Vars_Indep, y=Var_Dep)"
      ],
      "metadata": {
        "colab": {
          "base_uri": "https://localhost:8080/"
        },
        "id": "9I8ze7DRfvrT",
        "outputId": "77754f5d-111e-48a9-9cd6-f30a25106b9f"
      },
      "execution_count": 190,
      "outputs": [
        {
          "output_type": "execute_result",
          "data": {
            "text/plain": [
              "LinearRegression()"
            ]
          },
          "metadata": {},
          "execution_count": 190
        }
      ]
    },
    {
      "cell_type": "code",
      "source": [
        "#Verificamos los coeficientes obtenidos para el model ajustado \n",
        "model1.__dict__"
      ],
      "metadata": {
        "id": "TbBVyp51Lxy3"
      },
      "execution_count": null,
      "outputs": []
    },
    {
      "cell_type": "code",
      "source": [
        "#Evaluamos el coeficiente del modelo obtenido por medio del coeficiente R2 determinación \n",
        "model1.score(Vars_Indep,Var_Dep)"
      ],
      "metadata": {
        "colab": {
          "base_uri": "https://localhost:8080/"
        },
        "id": "GCkV4mHWMNNk",
        "outputId": "9f03c7f7-67f0-494d-e78a-819eae97de92"
      },
      "execution_count": 192,
      "outputs": [
        {
          "output_type": "execute_result",
          "data": {
            "text/plain": [
              "0.11291001823580893"
            ]
          },
          "metadata": {},
          "execution_count": 192
        }
      ]
    },
    {
      "cell_type": "markdown",
      "source": [
        "**Modelo predictivo**"
      ],
      "metadata": {
        "id": "6bzcKsPPMR59"
      }
    },
    {
      "cell_type": "code",
      "source": [
        "#Predecimos los valores de total de accidentes a partir de las variables\n",
        "y_prend=model1.predict(X=df[['104_how_many_shelves_does_the_micro_retailer_have','2_current_permanent_employees', '97_number_of_customers_in_store']])\n",
        "y_prend"
      ],
      "metadata": {
        "id": "ATR-nC2LMWEM"
      },
      "execution_count": null,
      "outputs": []
    },
    {
      "cell_type": "code",
      "source": [
        "#insertamos la columna de predicciones del df\n",
        "df.insert(1,'Predicciones1',y_prend)\n",
        "df"
      ],
      "metadata": {
        "colab": {
          "base_uri": "https://localhost:8080/",
          "height": 956
        },
        "id": "OdbUPUDfMfwe",
        "outputId": "6ff494fa-6078-42c9-8462-a55702f34943"
      },
      "execution_count": 194,
      "outputs": [
        {
          "output_type": "execute_result",
          "data": {
            "text/plain": [
              "     Predicciones  Predicciones1  Unnamed: 0  \\\n",
              "0      -98.212417       1.512866           0   \n",
              "1      -98.210499       1.526110           1   \n",
              "2      -98.204101       2.373284           2   \n",
              "3      -98.205882       1.196272           3   \n",
              "4      -98.204107       1.998291           4   \n",
              "..            ...            ...         ...   \n",
              "161    -98.221146       1.448317         166   \n",
              "162    -98.221441       1.480713         167   \n",
              "163    -98.223321       1.499864         168   \n",
              "164    -98.221355       0.493381         169   \n",
              "165    -98.221844       1.228425         170   \n",
              "\n",
              "                               _record_id             _title  \\\n",
              "0    dff2998e-af74-4de6-8efd-488aca24e67b  November 12, 2022   \n",
              "1    c596412f-4fc2-4983-acba-d9565859e42f  November 12, 2022   \n",
              "2    5bb632b3-41b5-4fb6-a817-b564e8b45a48  November 12, 2022   \n",
              "3    6774a0f6-bab4-4a58-bf94-95ad0b7cb438  November 12, 2022   \n",
              "4    6cc637fa-3d54-48c7-9499-6de13d0a26aa  November 12, 2022   \n",
              "..                                    ...                ...   \n",
              "161  2413f06e-15cc-4a6f-8e83-5224c6824b12   November 3, 2022   \n",
              "162  962bf5a6-1eff-4874-a627-9cd8e3ca27b4   November 3, 2022   \n",
              "163  9ff658db-4dc5-48b6-aa0b-5c6668bb6720   November 3, 2022   \n",
              "164  e88aa9c1-dc8b-4180-99a1-2e0118ad905d   November 3, 2022   \n",
              "165  bf720ff0-3b7d-47ed-ba49-f5d4bfb7293c   November 3, 2022   \n",
              "\n",
              "          _server_updated_at           _updated_by  \\\n",
              "0    2022-11-12 22:15:10 UTC  Salomon Abdala Perez   \n",
              "1    2022-11-12 22:15:09 UTC  Salomon Abdala Perez   \n",
              "2    2022-11-12 22:15:09 UTC  Salomon Abdala Perez   \n",
              "3    2022-11-12 22:15:09 UTC  Salomon Abdala Perez   \n",
              "4    2022-11-12 22:15:08 UTC  Salomon Abdala Perez   \n",
              "..                       ...                   ...   \n",
              "161  2022-11-03 16:50:48 UTC          Emilio Garza   \n",
              "162  2022-11-03 16:28:15 UTC          Emilio Garza   \n",
              "163  2022-11-03 16:28:14 UTC          Emilio Garza   \n",
              "164  2022-11-03 16:18:37 UTC        Francisco Adán   \n",
              "165  2022-11-03 16:15:13 UTC          Emilio Garza   \n",
              "\n",
              "                                         _geometry  _latitude  _longitude  \\\n",
              "0     SRID=4326;POINT(-98.233822273 19.0535362706)  19.053536  -98.233822   \n",
              "1    SRID=4326;POINT(-98.2341421351 19.0535610353)  19.053561  -98.234142   \n",
              "2      SRID=4326;POINT(-98.232299887 19.058654656)  19.058655  -98.232300   \n",
              "3    SRID=4326;POINT(-98.2331576513 19.0592929035)  19.059293  -98.233158   \n",
              "4    SRID=4326;POINT(-98.2338639604 19.0595846029)  19.059585  -98.233864   \n",
              "..                                             ...        ...         ...   \n",
              "161  SRID=4326;POINT(-98.1940658722 19.0431145635)  19.043115  -98.194066   \n",
              "162  SRID=4326;POINT(-98.1938023854 19.0427938182)  19.042794  -98.193802   \n",
              "163  SRID=4326;POINT(-98.1934387078 19.0428094171)  19.042809  -98.193439   \n",
              "164          SRID=4326;POINT(-98.193818 19.042558)  19.042558  -98.193818   \n",
              "165  SRID=4326;POINT(-98.1937349172 19.0428229892)  19.042823  -98.193735   \n",
              "\n",
              "     ...  261_technology_organization  262_technology_serve_customers  \\\n",
              "0    ...  261_technology_organization  262_technology_serve_customers   \n",
              "1    ...  261_technology_organization  262_technology_serve_customers   \n",
              "2    ...  261_technology_organization  262_technology_serve_customers   \n",
              "3    ...  261_technology_organization  262_technology_serve_customers   \n",
              "4    ...  261_technology_organization  262_technology_serve_customers   \n",
              "..   ...                          ...                             ...   \n",
              "161  ...  261_technology_organization  262_technology_serve_customers   \n",
              "162  ...  261_technology_organization  262_technology_serve_customers   \n",
              "163  ...  261_technology_organization  262_technology_serve_customers   \n",
              "164  ...  261_technology_organization  262_technology_serve_customers   \n",
              "165  ...  261_technology_organization  262_technology_serve_customers   \n",
              "\n",
              "     263_technology_secure_sales  264_technology_budget  \\\n",
              "0    263_technology_secure_sales  264_technology_budget   \n",
              "1    263_technology_secure_sales  264_technology_budget   \n",
              "2    263_technology_secure_sales  264_technology_budget   \n",
              "3    263_technology_secure_sales  264_technology_budget   \n",
              "4    263_technology_secure_sales  264_technology_budget   \n",
              "..                           ...                    ...   \n",
              "161  263_technology_secure_sales  264_technology_budget   \n",
              "162  263_technology_secure_sales  264_technology_budget   \n",
              "163  263_technology_secure_sales  264_technology_budget   \n",
              "164  263_technology_secure_sales  264_technology_budget   \n",
              "165  263_technology_secure_sales  264_technology_budget   \n",
              "\n",
              "     267_technology_investment_customer_preferences  \\\n",
              "0    267_technology_investment_customer_preferences   \n",
              "1    267_technology_investment_customer_preferences   \n",
              "2    267_technology_investment_customer_preferences   \n",
              "3    267_technology_investment_customer_preferences   \n",
              "4    267_technology_investment_customer_preferences   \n",
              "..                                              ...   \n",
              "161  267_technology_investment_customer_preferences   \n",
              "162  267_technology_investment_customer_preferences   \n",
              "163  267_technology_investment_customer_preferences   \n",
              "164  267_technology_investment_customer_preferences   \n",
              "165  267_technology_investment_customer_preferences   \n",
              "\n",
              "     234_willingness_participate_workshop  318_shopkeeper_name  \\\n",
              "0                                      no  318_shopkeeper_name   \n",
              "1                                      no  318_shopkeeper_name   \n",
              "2                                      no  318_shopkeeper_name   \n",
              "3                                      no  318_shopkeeper_name   \n",
              "4                                      no  318_shopkeeper_name   \n",
              "..                                    ...                  ...   \n",
              "161  234_willingness_participate_workshop  318_shopkeeper_name   \n",
              "162  234_willingness_participate_workshop  318_shopkeeper_name   \n",
              "163  234_willingness_participate_workshop  318_shopkeeper_name   \n",
              "164  234_willingness_participate_workshop  318_shopkeeper_name   \n",
              "165  234_willingness_participate_workshop  318_shopkeeper_name   \n",
              "\n",
              "     319_shopkeepers_last_name  236_whatsapp  235_email  \n",
              "0    319_shopkeepers_last_name  236_whatsapp  235_email  \n",
              "1    319_shopkeepers_last_name  236_whatsapp  235_email  \n",
              "2    319_shopkeepers_last_name  236_whatsapp  235_email  \n",
              "3    319_shopkeepers_last_name  236_whatsapp  235_email  \n",
              "4    319_shopkeepers_last_name  236_whatsapp  235_email  \n",
              "..                         ...           ...        ...  \n",
              "161  319_shopkeepers_last_name  236_whatsapp  235_email  \n",
              "162  319_shopkeepers_last_name  236_whatsapp  235_email  \n",
              "163  319_shopkeepers_last_name  236_whatsapp  235_email  \n",
              "164  319_shopkeepers_last_name  236_whatsapp  235_email  \n",
              "165  319_shopkeepers_last_name  236_whatsapp  235_email  \n",
              "\n",
              "[166 rows x 109 columns]"
            ],
            "text/html": [
              "\n",
              "  <div id=\"df-6bbece37-58a9-4e4a-8742-1b79c5663d23\">\n",
              "    <div class=\"colab-df-container\">\n",
              "      <div>\n",
              "<style scoped>\n",
              "    .dataframe tbody tr th:only-of-type {\n",
              "        vertical-align: middle;\n",
              "    }\n",
              "\n",
              "    .dataframe tbody tr th {\n",
              "        vertical-align: top;\n",
              "    }\n",
              "\n",
              "    .dataframe thead th {\n",
              "        text-align: right;\n",
              "    }\n",
              "</style>\n",
              "<table border=\"1\" class=\"dataframe\">\n",
              "  <thead>\n",
              "    <tr style=\"text-align: right;\">\n",
              "      <th></th>\n",
              "      <th>Predicciones</th>\n",
              "      <th>Predicciones1</th>\n",
              "      <th>Unnamed: 0</th>\n",
              "      <th>_record_id</th>\n",
              "      <th>_title</th>\n",
              "      <th>_server_updated_at</th>\n",
              "      <th>_updated_by</th>\n",
              "      <th>_geometry</th>\n",
              "      <th>_latitude</th>\n",
              "      <th>_longitude</th>\n",
              "      <th>...</th>\n",
              "      <th>261_technology_organization</th>\n",
              "      <th>262_technology_serve_customers</th>\n",
              "      <th>263_technology_secure_sales</th>\n",
              "      <th>264_technology_budget</th>\n",
              "      <th>267_technology_investment_customer_preferences</th>\n",
              "      <th>234_willingness_participate_workshop</th>\n",
              "      <th>318_shopkeeper_name</th>\n",
              "      <th>319_shopkeepers_last_name</th>\n",
              "      <th>236_whatsapp</th>\n",
              "      <th>235_email</th>\n",
              "    </tr>\n",
              "  </thead>\n",
              "  <tbody>\n",
              "    <tr>\n",
              "      <th>0</th>\n",
              "      <td>-98.212417</td>\n",
              "      <td>1.512866</td>\n",
              "      <td>0</td>\n",
              "      <td>dff2998e-af74-4de6-8efd-488aca24e67b</td>\n",
              "      <td>November 12, 2022</td>\n",
              "      <td>2022-11-12 22:15:10 UTC</td>\n",
              "      <td>Salomon Abdala Perez</td>\n",
              "      <td>SRID=4326;POINT(-98.233822273 19.0535362706)</td>\n",
              "      <td>19.053536</td>\n",
              "      <td>-98.233822</td>\n",
              "      <td>...</td>\n",
              "      <td>261_technology_organization</td>\n",
              "      <td>262_technology_serve_customers</td>\n",
              "      <td>263_technology_secure_sales</td>\n",
              "      <td>264_technology_budget</td>\n",
              "      <td>267_technology_investment_customer_preferences</td>\n",
              "      <td>no</td>\n",
              "      <td>318_shopkeeper_name</td>\n",
              "      <td>319_shopkeepers_last_name</td>\n",
              "      <td>236_whatsapp</td>\n",
              "      <td>235_email</td>\n",
              "    </tr>\n",
              "    <tr>\n",
              "      <th>1</th>\n",
              "      <td>-98.210499</td>\n",
              "      <td>1.526110</td>\n",
              "      <td>1</td>\n",
              "      <td>c596412f-4fc2-4983-acba-d9565859e42f</td>\n",
              "      <td>November 12, 2022</td>\n",
              "      <td>2022-11-12 22:15:09 UTC</td>\n",
              "      <td>Salomon Abdala Perez</td>\n",
              "      <td>SRID=4326;POINT(-98.2341421351 19.0535610353)</td>\n",
              "      <td>19.053561</td>\n",
              "      <td>-98.234142</td>\n",
              "      <td>...</td>\n",
              "      <td>261_technology_organization</td>\n",
              "      <td>262_technology_serve_customers</td>\n",
              "      <td>263_technology_secure_sales</td>\n",
              "      <td>264_technology_budget</td>\n",
              "      <td>267_technology_investment_customer_preferences</td>\n",
              "      <td>no</td>\n",
              "      <td>318_shopkeeper_name</td>\n",
              "      <td>319_shopkeepers_last_name</td>\n",
              "      <td>236_whatsapp</td>\n",
              "      <td>235_email</td>\n",
              "    </tr>\n",
              "    <tr>\n",
              "      <th>2</th>\n",
              "      <td>-98.204101</td>\n",
              "      <td>2.373284</td>\n",
              "      <td>2</td>\n",
              "      <td>5bb632b3-41b5-4fb6-a817-b564e8b45a48</td>\n",
              "      <td>November 12, 2022</td>\n",
              "      <td>2022-11-12 22:15:09 UTC</td>\n",
              "      <td>Salomon Abdala Perez</td>\n",
              "      <td>SRID=4326;POINT(-98.232299887 19.058654656)</td>\n",
              "      <td>19.058655</td>\n",
              "      <td>-98.232300</td>\n",
              "      <td>...</td>\n",
              "      <td>261_technology_organization</td>\n",
              "      <td>262_technology_serve_customers</td>\n",
              "      <td>263_technology_secure_sales</td>\n",
              "      <td>264_technology_budget</td>\n",
              "      <td>267_technology_investment_customer_preferences</td>\n",
              "      <td>no</td>\n",
              "      <td>318_shopkeeper_name</td>\n",
              "      <td>319_shopkeepers_last_name</td>\n",
              "      <td>236_whatsapp</td>\n",
              "      <td>235_email</td>\n",
              "    </tr>\n",
              "    <tr>\n",
              "      <th>3</th>\n",
              "      <td>-98.205882</td>\n",
              "      <td>1.196272</td>\n",
              "      <td>3</td>\n",
              "      <td>6774a0f6-bab4-4a58-bf94-95ad0b7cb438</td>\n",
              "      <td>November 12, 2022</td>\n",
              "      <td>2022-11-12 22:15:09 UTC</td>\n",
              "      <td>Salomon Abdala Perez</td>\n",
              "      <td>SRID=4326;POINT(-98.2331576513 19.0592929035)</td>\n",
              "      <td>19.059293</td>\n",
              "      <td>-98.233158</td>\n",
              "      <td>...</td>\n",
              "      <td>261_technology_organization</td>\n",
              "      <td>262_technology_serve_customers</td>\n",
              "      <td>263_technology_secure_sales</td>\n",
              "      <td>264_technology_budget</td>\n",
              "      <td>267_technology_investment_customer_preferences</td>\n",
              "      <td>no</td>\n",
              "      <td>318_shopkeeper_name</td>\n",
              "      <td>319_shopkeepers_last_name</td>\n",
              "      <td>236_whatsapp</td>\n",
              "      <td>235_email</td>\n",
              "    </tr>\n",
              "    <tr>\n",
              "      <th>4</th>\n",
              "      <td>-98.204107</td>\n",
              "      <td>1.998291</td>\n",
              "      <td>4</td>\n",
              "      <td>6cc637fa-3d54-48c7-9499-6de13d0a26aa</td>\n",
              "      <td>November 12, 2022</td>\n",
              "      <td>2022-11-12 22:15:08 UTC</td>\n",
              "      <td>Salomon Abdala Perez</td>\n",
              "      <td>SRID=4326;POINT(-98.2338639604 19.0595846029)</td>\n",
              "      <td>19.059585</td>\n",
              "      <td>-98.233864</td>\n",
              "      <td>...</td>\n",
              "      <td>261_technology_organization</td>\n",
              "      <td>262_technology_serve_customers</td>\n",
              "      <td>263_technology_secure_sales</td>\n",
              "      <td>264_technology_budget</td>\n",
              "      <td>267_technology_investment_customer_preferences</td>\n",
              "      <td>no</td>\n",
              "      <td>318_shopkeeper_name</td>\n",
              "      <td>319_shopkeepers_last_name</td>\n",
              "      <td>236_whatsapp</td>\n",
              "      <td>235_email</td>\n",
              "    </tr>\n",
              "    <tr>\n",
              "      <th>...</th>\n",
              "      <td>...</td>\n",
              "      <td>...</td>\n",
              "      <td>...</td>\n",
              "      <td>...</td>\n",
              "      <td>...</td>\n",
              "      <td>...</td>\n",
              "      <td>...</td>\n",
              "      <td>...</td>\n",
              "      <td>...</td>\n",
              "      <td>...</td>\n",
              "      <td>...</td>\n",
              "      <td>...</td>\n",
              "      <td>...</td>\n",
              "      <td>...</td>\n",
              "      <td>...</td>\n",
              "      <td>...</td>\n",
              "      <td>...</td>\n",
              "      <td>...</td>\n",
              "      <td>...</td>\n",
              "      <td>...</td>\n",
              "      <td>...</td>\n",
              "    </tr>\n",
              "    <tr>\n",
              "      <th>161</th>\n",
              "      <td>-98.221146</td>\n",
              "      <td>1.448317</td>\n",
              "      <td>166</td>\n",
              "      <td>2413f06e-15cc-4a6f-8e83-5224c6824b12</td>\n",
              "      <td>November 3, 2022</td>\n",
              "      <td>2022-11-03 16:50:48 UTC</td>\n",
              "      <td>Emilio Garza</td>\n",
              "      <td>SRID=4326;POINT(-98.1940658722 19.0431145635)</td>\n",
              "      <td>19.043115</td>\n",
              "      <td>-98.194066</td>\n",
              "      <td>...</td>\n",
              "      <td>261_technology_organization</td>\n",
              "      <td>262_technology_serve_customers</td>\n",
              "      <td>263_technology_secure_sales</td>\n",
              "      <td>264_technology_budget</td>\n",
              "      <td>267_technology_investment_customer_preferences</td>\n",
              "      <td>234_willingness_participate_workshop</td>\n",
              "      <td>318_shopkeeper_name</td>\n",
              "      <td>319_shopkeepers_last_name</td>\n",
              "      <td>236_whatsapp</td>\n",
              "      <td>235_email</td>\n",
              "    </tr>\n",
              "    <tr>\n",
              "      <th>162</th>\n",
              "      <td>-98.221441</td>\n",
              "      <td>1.480713</td>\n",
              "      <td>167</td>\n",
              "      <td>962bf5a6-1eff-4874-a627-9cd8e3ca27b4</td>\n",
              "      <td>November 3, 2022</td>\n",
              "      <td>2022-11-03 16:28:15 UTC</td>\n",
              "      <td>Emilio Garza</td>\n",
              "      <td>SRID=4326;POINT(-98.1938023854 19.0427938182)</td>\n",
              "      <td>19.042794</td>\n",
              "      <td>-98.193802</td>\n",
              "      <td>...</td>\n",
              "      <td>261_technology_organization</td>\n",
              "      <td>262_technology_serve_customers</td>\n",
              "      <td>263_technology_secure_sales</td>\n",
              "      <td>264_technology_budget</td>\n",
              "      <td>267_technology_investment_customer_preferences</td>\n",
              "      <td>234_willingness_participate_workshop</td>\n",
              "      <td>318_shopkeeper_name</td>\n",
              "      <td>319_shopkeepers_last_name</td>\n",
              "      <td>236_whatsapp</td>\n",
              "      <td>235_email</td>\n",
              "    </tr>\n",
              "    <tr>\n",
              "      <th>163</th>\n",
              "      <td>-98.223321</td>\n",
              "      <td>1.499864</td>\n",
              "      <td>168</td>\n",
              "      <td>9ff658db-4dc5-48b6-aa0b-5c6668bb6720</td>\n",
              "      <td>November 3, 2022</td>\n",
              "      <td>2022-11-03 16:28:14 UTC</td>\n",
              "      <td>Emilio Garza</td>\n",
              "      <td>SRID=4326;POINT(-98.1934387078 19.0428094171)</td>\n",
              "      <td>19.042809</td>\n",
              "      <td>-98.193439</td>\n",
              "      <td>...</td>\n",
              "      <td>261_technology_organization</td>\n",
              "      <td>262_technology_serve_customers</td>\n",
              "      <td>263_technology_secure_sales</td>\n",
              "      <td>264_technology_budget</td>\n",
              "      <td>267_technology_investment_customer_preferences</td>\n",
              "      <td>234_willingness_participate_workshop</td>\n",
              "      <td>318_shopkeeper_name</td>\n",
              "      <td>319_shopkeepers_last_name</td>\n",
              "      <td>236_whatsapp</td>\n",
              "      <td>235_email</td>\n",
              "    </tr>\n",
              "    <tr>\n",
              "      <th>164</th>\n",
              "      <td>-98.221355</td>\n",
              "      <td>0.493381</td>\n",
              "      <td>169</td>\n",
              "      <td>e88aa9c1-dc8b-4180-99a1-2e0118ad905d</td>\n",
              "      <td>November 3, 2022</td>\n",
              "      <td>2022-11-03 16:18:37 UTC</td>\n",
              "      <td>Francisco Adán</td>\n",
              "      <td>SRID=4326;POINT(-98.193818 19.042558)</td>\n",
              "      <td>19.042558</td>\n",
              "      <td>-98.193818</td>\n",
              "      <td>...</td>\n",
              "      <td>261_technology_organization</td>\n",
              "      <td>262_technology_serve_customers</td>\n",
              "      <td>263_technology_secure_sales</td>\n",
              "      <td>264_technology_budget</td>\n",
              "      <td>267_technology_investment_customer_preferences</td>\n",
              "      <td>234_willingness_participate_workshop</td>\n",
              "      <td>318_shopkeeper_name</td>\n",
              "      <td>319_shopkeepers_last_name</td>\n",
              "      <td>236_whatsapp</td>\n",
              "      <td>235_email</td>\n",
              "    </tr>\n",
              "    <tr>\n",
              "      <th>165</th>\n",
              "      <td>-98.221844</td>\n",
              "      <td>1.228425</td>\n",
              "      <td>170</td>\n",
              "      <td>bf720ff0-3b7d-47ed-ba49-f5d4bfb7293c</td>\n",
              "      <td>November 3, 2022</td>\n",
              "      <td>2022-11-03 16:15:13 UTC</td>\n",
              "      <td>Emilio Garza</td>\n",
              "      <td>SRID=4326;POINT(-98.1937349172 19.0428229892)</td>\n",
              "      <td>19.042823</td>\n",
              "      <td>-98.193735</td>\n",
              "      <td>...</td>\n",
              "      <td>261_technology_organization</td>\n",
              "      <td>262_technology_serve_customers</td>\n",
              "      <td>263_technology_secure_sales</td>\n",
              "      <td>264_technology_budget</td>\n",
              "      <td>267_technology_investment_customer_preferences</td>\n",
              "      <td>234_willingness_participate_workshop</td>\n",
              "      <td>318_shopkeeper_name</td>\n",
              "      <td>319_shopkeepers_last_name</td>\n",
              "      <td>236_whatsapp</td>\n",
              "      <td>235_email</td>\n",
              "    </tr>\n",
              "  </tbody>\n",
              "</table>\n",
              "<p>166 rows × 109 columns</p>\n",
              "</div>\n",
              "      <button class=\"colab-df-convert\" onclick=\"convertToInteractive('df-6bbece37-58a9-4e4a-8742-1b79c5663d23')\"\n",
              "              title=\"Convert this dataframe to an interactive table.\"\n",
              "              style=\"display:none;\">\n",
              "        \n",
              "  <svg xmlns=\"http://www.w3.org/2000/svg\" height=\"24px\"viewBox=\"0 0 24 24\"\n",
              "       width=\"24px\">\n",
              "    <path d=\"M0 0h24v24H0V0z\" fill=\"none\"/>\n",
              "    <path d=\"M18.56 5.44l.94 2.06.94-2.06 2.06-.94-2.06-.94-.94-2.06-.94 2.06-2.06.94zm-11 1L8.5 8.5l.94-2.06 2.06-.94-2.06-.94L8.5 2.5l-.94 2.06-2.06.94zm10 10l.94 2.06.94-2.06 2.06-.94-2.06-.94-.94-2.06-.94 2.06-2.06.94z\"/><path d=\"M17.41 7.96l-1.37-1.37c-.4-.4-.92-.59-1.43-.59-.52 0-1.04.2-1.43.59L10.3 9.45l-7.72 7.72c-.78.78-.78 2.05 0 2.83L4 21.41c.39.39.9.59 1.41.59.51 0 1.02-.2 1.41-.59l7.78-7.78 2.81-2.81c.8-.78.8-2.07 0-2.86zM5.41 20L4 18.59l7.72-7.72 1.47 1.35L5.41 20z\"/>\n",
              "  </svg>\n",
              "      </button>\n",
              "      \n",
              "  <style>\n",
              "    .colab-df-container {\n",
              "      display:flex;\n",
              "      flex-wrap:wrap;\n",
              "      gap: 12px;\n",
              "    }\n",
              "\n",
              "    .colab-df-convert {\n",
              "      background-color: #E8F0FE;\n",
              "      border: none;\n",
              "      border-radius: 50%;\n",
              "      cursor: pointer;\n",
              "      display: none;\n",
              "      fill: #1967D2;\n",
              "      height: 32px;\n",
              "      padding: 0 0 0 0;\n",
              "      width: 32px;\n",
              "    }\n",
              "\n",
              "    .colab-df-convert:hover {\n",
              "      background-color: #E2EBFA;\n",
              "      box-shadow: 0px 1px 2px rgba(60, 64, 67, 0.3), 0px 1px 3px 1px rgba(60, 64, 67, 0.15);\n",
              "      fill: #174EA6;\n",
              "    }\n",
              "\n",
              "    [theme=dark] .colab-df-convert {\n",
              "      background-color: #3B4455;\n",
              "      fill: #D2E3FC;\n",
              "    }\n",
              "\n",
              "    [theme=dark] .colab-df-convert:hover {\n",
              "      background-color: #434B5C;\n",
              "      box-shadow: 0px 1px 3px 1px rgba(0, 0, 0, 0.15);\n",
              "      filter: drop-shadow(0px 1px 2px rgba(0, 0, 0, 0.3));\n",
              "      fill: #FFFFFF;\n",
              "    }\n",
              "  </style>\n",
              "\n",
              "      <script>\n",
              "        const buttonEl =\n",
              "          document.querySelector('#df-6bbece37-58a9-4e4a-8742-1b79c5663d23 button.colab-df-convert');\n",
              "        buttonEl.style.display =\n",
              "          google.colab.kernel.accessAllowed ? 'block' : 'none';\n",
              "\n",
              "        async function convertToInteractive(key) {\n",
              "          const element = document.querySelector('#df-6bbece37-58a9-4e4a-8742-1b79c5663d23');\n",
              "          const dataTable =\n",
              "            await google.colab.kernel.invokeFunction('convertToInteractive',\n",
              "                                                     [key], {});\n",
              "          if (!dataTable) return;\n",
              "\n",
              "          const docLinkHtml = 'Like what you see? Visit the ' +\n",
              "            '<a target=\"_blank\" href=https://colab.research.google.com/notebooks/data_table.ipynb>data table notebook</a>'\n",
              "            + ' to learn more about interactive tables.';\n",
              "          element.innerHTML = '';\n",
              "          dataTable['output_type'] = 'display_data';\n",
              "          await google.colab.output.renderOutput(dataTable, element);\n",
              "          const docLink = document.createElement('div');\n",
              "          docLink.innerHTML = docLinkHtml;\n",
              "          element.appendChild(docLink);\n",
              "        }\n",
              "      </script>\n",
              "    </div>\n",
              "  </div>\n",
              "  "
            ]
          },
          "metadata": {},
          "execution_count": 194
        }
      ]
    },
    {
      "cell_type": "code",
      "source": [
        "#Comparamos entre total real y total predictivo\n",
        "sns.scatterplot(x='268_number_fridges', y='104_how_many_shelves_does_the_micro_retailer_have', color=\"blue\" , data=df)\n",
        "sns.scatterplot(x='268_number_fridges', y='Predicciones1', color=\"red\" , data=df)"
      ],
      "metadata": {
        "colab": {
          "base_uri": "https://localhost:8080/",
          "height": 326
        },
        "id": "69-wr3O6Ms-1",
        "outputId": "1ab0fd71-dd16-4c72-c612-37b8955c1e2b"
      },
      "execution_count": 195,
      "outputs": [
        {
          "output_type": "execute_result",
          "data": {
            "text/plain": [
              "<matplotlib.axes._subplots.AxesSubplot at 0x7f19e9975250>"
            ]
          },
          "metadata": {},
          "execution_count": 195
        },
        {
          "output_type": "display_data",
          "data": {
            "text/plain": [
              "<Figure size 432x288 with 1 Axes>"
            ],
            "image/png": "[encoded data removed]"
          },
          "metadata": {
            "needs_background": "light"
          }
        }
      ]
    },
    {
      "cell_type": "code",
      "source": [
        "#Corroboramos el coeficiente de determinacion de nuestro modelo \n",
        "coef_Deter=model1.score(X=Vars_Indep, y=Var_Dep)\n",
        "coef_Deter"
      ],
      "metadata": {
        "colab": {
          "base_uri": "https://localhost:8080/"
        },
        "id": "wczRooR0NvR-",
        "outputId": "0ce1e09f-2b1d-48c8-c2b9-e317dfd29f0a"
      },
      "execution_count": 196,
      "outputs": [
        {
          "output_type": "execute_result",
          "data": {
            "text/plain": [
              "0.11291001823580893"
            ]
          },
          "metadata": {},
          "execution_count": 196
        }
      ]
    },
    {
      "cell_type": "code",
      "source": [
        "#Corroboramos el coeficiente de corelacion de nuestro modelo \n",
        "coef_Correl=np.sqrt(coef_Deter)\n",
        "coef_Correl"
      ],
      "metadata": {
        "colab": {
          "base_uri": "https://localhost:8080/"
        },
        "id": "SnjDHQApN1hj",
        "outputId": "d75b302f-8699-4fe3-f01f-5f5f75564f3d"
      },
      "execution_count": 197,
      "outputs": [
        {
          "output_type": "execute_result",
          "data": {
            "text/plain": [
              "0.3360208598224356"
            ]
          },
          "metadata": {},
          "execution_count": 197
        }
      ]
    },
    {
      "cell_type": "markdown",
      "source": [
        "**Caso 3**\n"
      ],
      "metadata": {
        "id": "ZW5E08qyOOOe"
      }
    },
    {
      "cell_type": "code",
      "source": [
        "#se grafican mapas de dispersion de las variables 3 variables (4_number_permanent_employees_last_year','2_current_permanent_employees', '_longitude)\n",
        "from turtle import color\n",
        "sns.scatterplot(x='_longitude', y='_latitude', color=\"blue\" , data=df)\n",
        "sns.scatterplot(x='2_current_permanent_employees', y='_latitude', color=\"red\" , data=df)\n",
        "sns.scatterplot(x='4_number_permanent_employees_last_year', y='_latitude', color=\"yellow\" , data=df)"
      ],
      "metadata": {
        "colab": {
          "base_uri": "https://localhost:8080/",
          "height": 298
        },
        "id": "BYguTsgWORDV",
        "outputId": "89b118e1-10b2-4ceb-eac9-4b3b255254c0"
      },
      "execution_count": 199,
      "outputs": [
        {
          "output_type": "execute_result",
          "data": {
            "text/plain": [
              "<matplotlib.axes._subplots.AxesSubplot at 0x7f19e98dea10>"
            ]
          },
          "metadata": {},
          "execution_count": 199
        },
        {
          "output_type": "display_data",
          "data": {
            "text/plain": [
              "<Figure size 432x288 with 1 Axes>"
            ],
            "image/png": "[encoded data removed]"
          },
          "metadata": {
            "needs_background": "light"
          }
        }
      ]
    },
    {
      "cell_type": "code",
      "source": [
        "#Decimos cuales van a hacer las varibles, dependientes e independientes para la regresión lineal\n",
        "Vars_Indep=df[['4_number_permanent_employees_last_year','2_current_permanent_employees', '_longitude']]\n",
        "Var_Dep=df['_latitude']"
      ],
      "metadata": {
        "id": "HVVhzbvrQNXu"
      },
      "execution_count": 200,
      "outputs": []
    },
    {
      "cell_type": "code",
      "source": [
        "#Se define como model como la funcion de regresion lineal \n",
        "from sklearn.linear_model import LinearRegression\n",
        "model2=LinearRegression()"
      ],
      "metadata": {
        "id": "Hz-sWGv9Q3_7"
      },
      "execution_count": 201,
      "outputs": []
    },
    {
      "cell_type": "code",
      "source": [
        "#verificamos la funcion relacionada al modelo \n",
        "type(model2)"
      ],
      "metadata": {
        "colab": {
          "base_uri": "https://localhost:8080/"
        },
        "id": "4oK-7KgXQ8Ct",
        "outputId": "94b6edd0-d167-405f-a213-66f4304d78fe"
      },
      "execution_count": 203,
      "outputs": [
        {
          "output_type": "execute_result",
          "data": {
            "text/plain": [
              "sklearn.linear_model._base.LinearRegression"
            ]
          },
          "metadata": {},
          "execution_count": 203
        }
      ]
    },
    {
      "cell_type": "code",
      "source": [
        "#Ajustamos el modelo con las variables antes declaradas\n",
        "model2.fit(X=Vars_Indep, y=Var_Dep)"
      ],
      "metadata": {
        "colab": {
          "base_uri": "https://localhost:8080/"
        },
        "id": "rVxzTnGRRAru",
        "outputId": "2e1a4e8a-3f5a-49fd-e917-68e80cec1926"
      },
      "execution_count": 204,
      "outputs": [
        {
          "output_type": "execute_result",
          "data": {
            "text/plain": [
              "LinearRegression()"
            ]
          },
          "metadata": {},
          "execution_count": 204
        }
      ]
    },
    {
      "cell_type": "code",
      "source": [
        "#Verificamos los coeficientes obtenidos para el model ajustado \n",
        "model2.__dict__"
      ],
      "metadata": {
        "colab": {
          "base_uri": "https://localhost:8080/"
        },
        "id": "hf3ktHGHRIkF",
        "outputId": "7ac28b42-9a8c-4dda-d9a8-91f485e7c8b7"
      },
      "execution_count": 205,
      "outputs": [
        {
          "output_type": "execute_result",
          "data": {
            "text/plain": [
              "{'fit_intercept': True,\n",
              " 'normalize': 'deprecated',\n",
              " 'copy_X': True,\n",
              " 'n_jobs': None,\n",
              " 'positive': False,\n",
              " 'feature_names_in_': array(['4_number_permanent_employees_last_year',\n",
              "        '2_current_permanent_employees', '_longitude'], dtype=object),\n",
              " 'n_features_in_': 3,\n",
              " 'coef_': array([ 9.72751811e-05, -4.49526541e-04,  2.39391384e-01]),\n",
              " '_residues': 0.06172385991304573,\n",
              " 'rank_': 3,\n",
              " 'singular_': array([71.0501986 , 25.02905564,  0.55641569]),\n",
              " 'intercept_': 42.55908504240617}"
            ]
          },
          "metadata": {},
          "execution_count": 205
        }
      ]
    },
    {
      "cell_type": "code",
      "source": [
        "#Evaluamos el coeficiente del modelo obtenido por medio del coeficiente R2 determinación \n",
        "model2.score(Vars_Indep,Var_Dep)"
      ],
      "metadata": {
        "colab": {
          "base_uri": "https://localhost:8080/"
        },
        "id": "EpXA9-b6RL5O",
        "outputId": "826d91db-c1ca-41ef-c8b0-72762d117192"
      },
      "execution_count": 206,
      "outputs": [
        {
          "output_type": "execute_result",
          "data": {
            "text/plain": [
              "0.2278724207399111"
            ]
          },
          "metadata": {},
          "execution_count": 206
        }
      ]
    },
    {
      "cell_type": "markdown",
      "source": [
        "**Modelo predictivo**\n",
        "\n",
        "\n"
      ],
      "metadata": {
        "id": "ZXQlDAYaRT3e"
      }
    },
    {
      "cell_type": "code",
      "source": [
        "#Predecimos los valores de total de accidentes a partir de las variables\n",
        "y_prend=model1.predict(X=df[['4_number_permanent_employees_last_year','2_current_permanent_employees', '_longitude']])\n",
        "y_prend"
      ],
      "metadata": {
        "id": "3Sn-15qVRXPe"
      },
      "execution_count": null,
      "outputs": []
    },
    {
      "cell_type": "code",
      "source": [
        "#insertamos la columna de predicciones del df\n",
        "df.insert(1,'Predicciones4',y_prend)\n",
        "df"
      ],
      "metadata": {
        "id": "ashgZIR0R6WH"
      },
      "execution_count": null,
      "outputs": []
    },
    {
      "cell_type": "code",
      "source": [
        "#Comparamos entre total real y total predictivo\n",
        "sns.scatterplot(x='_latitude', y='4_number_permanent_employees_last_year', color=\"blue\" , data=df)\n",
        "sns.scatterplot(x='_latitude', y='Predicciones2', color=\"red\" , data=df)"
      ],
      "metadata": {
        "colab": {
          "base_uri": "https://localhost:8080/",
          "height": 299
        },
        "id": "oYFGsqh_STH_",
        "outputId": "bf7f8f8e-5efc-4d4b-c967-ee1eea8ed101"
      },
      "execution_count": 219,
      "outputs": [
        {
          "output_type": "execute_result",
          "data": {
            "text/plain": [
              "<matplotlib.axes._subplots.AxesSubplot at 0x7f19eac13150>"
            ]
          },
          "metadata": {},
          "execution_count": 219
        },
        {
          "output_type": "display_data",
          "data": {
            "text/plain": [
              "<Figure size 432x288 with 1 Axes>"
            ],
            "image/png": "[encoded data removed]"
          },
          "metadata": {
            "needs_background": "light"
          }
        }
      ]
    },
    {
      "cell_type": "code",
      "source": [
        "#Corroboramos el coeficiente de determinacion de nuestro modelo \n",
        "coef_Deter=model2.score(X=Vars_Indep, y=Var_Dep)\n",
        "coef_Deter"
      ],
      "metadata": {
        "colab": {
          "base_uri": "https://localhost:8080/"
        },
        "id": "2Uepw0CqTFIx",
        "outputId": "bd6fa4ba-7e72-4ea4-8fba-c6fc4419bb6e"
      },
      "execution_count": 220,
      "outputs": [
        {
          "output_type": "execute_result",
          "data": {
            "text/plain": [
              "0.2278724207399111"
            ]
          },
          "metadata": {},
          "execution_count": 220
        }
      ]
    },
    {
      "cell_type": "code",
      "source": [
        "#Corroboramos el coeficiente de corelacion de nuestro modelo \n",
        "coef_Correl=np.sqrt(coef_Deter)\n",
        "coef_Correl"
      ],
      "metadata": {
        "colab": {
          "base_uri": "https://localhost:8080/"
        },
        "id": "W9SuS6KXTJBe",
        "outputId": "7d37c0dc-82ad-495d-e8ac-427764f21378"
      },
      "execution_count": 221,
      "outputs": [
        {
          "output_type": "execute_result",
          "data": {
            "text/plain": [
              "0.47735984407982107"
            ]
          },
          "metadata": {},
          "execution_count": 221
        }
      ]
    }
  ]
}